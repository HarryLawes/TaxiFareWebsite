{
 "cells": [
  {
   "cell_type": "code",
   "execution_count": 55,
   "id": "ordinary-vanilla",
   "metadata": {
    "scrolled": true
   },
   "outputs": [
    {
     "name": "stdout",
     "output_type": "stream",
     "text": [
      "{'prediction': 35.702758731223206}\n"
     ]
    }
   ],
   "source": [
    "import requests\n",
    "\n",
    "url = 'http://taxifare.lewagon.ai/predict_fare/'\n",
    "\n",
    "url3=\"https://wagon-exo-z7fyqqvx3a-ew.a.run.app/predict_fare/\"\n",
    "\n",
    "params = dict(\n",
    "    key='2012-10-06 12:10:20.0000001',\n",
    "    pickup_datetime='2012-10-06 12:10:20 UTC',\n",
    "    pickup_longitude=40.7614327,\n",
    "    pickup_latitude=-73.9798156,\n",
    "    dropoff_longitude=40.6513111,\n",
    "    dropoff_latitude=-73.8803331,\n",
    "    passenger_count=2)\n",
    "\n",
    "x = dict(\n",
    "  key='2012-10-06 12:10:20.0000001',\n",
    "  pickup_datetime='2012-10-06 12:10:20 UTC',\n",
    "  pickup_longitude=40.7614327,\n",
    "  pickup_latitude=-73.9798156,\n",
    "  dropoff_longitude=40.6331166,\n",
    "  dropoff_latitude=-43.8874078,\n",
    "  passenger_count=2\n",
    ")\n",
    "\n",
    "url2 = \"http://taxifare.lewagon.ai/predict_fare/?key=2012-10-06%2012:10:20.0000001&pickup_datetime=2012-10-06%2012:10:20%20UTC&pickup_longitude=40.7614327&pickup_latitude=-73.9798156&dropoff_longitude=40.6513111&dropoff_latitude=-73.8803331&passenger_count=2\"\n",
    "\n",
    "params2 = dict(\n",
    "        key=['2012-10-06 10:20.0000001'],\n",
    "        pickup_datetime=['2012-10-06 10:20'],\n",
    "        pickup_longitude=[float(40.7614327)],\n",
    "        pickup_latitude=[float(-73.9798156)],\n",
    "        dropoff_longitude=[float(40.6513111)],\n",
    "        dropoff_latitude=[float(-73.8803331)],\n",
    "        passenger_count=[int(2)])\n",
    "\n",
    "\n",
    "response = requests.get(url, params=params).json()\n",
    "print(response)\n",
    "# if response.status_code == 200:\n",
    "#     print(response)\n",
    "# else:\n",
    "#     response = requests.get(url, params)\n",
    "#     print(response)"
   ]
  },
  {
   "cell_type": "code",
   "execution_count": null,
   "id": "liable-wednesday",
   "metadata": {},
   "outputs": [],
   "source": []
  },
  {
   "cell_type": "code",
   "execution_count": null,
   "id": "front-journal",
   "metadata": {},
   "outputs": [],
   "source": []
  }
 ],
 "metadata": {
  "kernelspec": {
   "display_name": "Python 3",
   "language": "python",
   "name": "python3"
  },
  "language_info": {
   "codemirror_mode": {
    "name": "ipython",
    "version": 3
   },
   "file_extension": ".py",
   "mimetype": "text/x-python",
   "name": "python",
   "nbconvert_exporter": "python",
   "pygments_lexer": "ipython3",
   "version": "3.8.6"
  },
  "toc": {
   "base_numbering": 1,
   "nav_menu": {},
   "number_sections": true,
   "sideBar": true,
   "skip_h1_title": false,
   "title_cell": "Table of Contents",
   "title_sidebar": "Contents",
   "toc_cell": false,
   "toc_position": {},
   "toc_section_display": true,
   "toc_window_display": false
  }
 },
 "nbformat": 4,
 "nbformat_minor": 5
}
